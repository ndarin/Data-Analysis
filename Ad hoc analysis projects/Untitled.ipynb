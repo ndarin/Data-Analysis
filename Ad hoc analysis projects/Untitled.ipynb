{
 "cells": [
  {
   "cell_type": "code",
   "execution_count": 1,
   "id": "1f645e1a-f36c-46f9-96f9-5b932a58098d",
   "metadata": {},
   "outputs": [
    {
     "name": "stdout",
     "output_type": "stream",
     "text": [
      "Collecting jupyter_contrib_nbextensionsNote: you may need to restart the kernel to use updated packages.\n"
     ]
    },
    {
     "name": "stderr",
     "output_type": "stream",
     "text": [
      "'contrib' is not recognized as an internal or external command,\n",
      "operable program or batch file.\n"
     ]
    },
    {
     "name": "stdout",
     "output_type": "stream",
     "text": [
      "\n",
      "  Downloading jupyter_contrib_nbextensions-0.5.1-py2.py3-none-any.whl (20.9 MB)\n",
      "Collecting jupyter-latex-envs>=1.3.8\n",
      "  Downloading jupyter_latex_envs-1.4.6.tar.gz (861 kB)\n",
      "  Preparing metadata (setup.py): started\n",
      "  Preparing metadata (setup.py): finished with status 'done'\n",
      "Collecting jupyter-nbextensions-configurator>=0.4.0\n",
      "  Downloading jupyter_nbextensions_configurator-0.4.1.tar.gz (479 kB)\n",
      "  Preparing metadata (setup.py): started\n",
      "  Preparing metadata (setup.py): finished with status 'done'\n",
      "Requirement already satisfied: lxml in c:\\jupyterlab\\resources\\jlab_server\\lib\\site-packages (from jupyter_contrib_nbextensions) (4.7.1)\n",
      "Requirement already satisfied: nbconvert>=4.2 in c:\\jupyterlab\\resources\\jlab_server\\lib\\site-packages (from jupyter_contrib_nbextensions) (6.2.0)\n",
      "Requirement already satisfied: ipython-genutils in c:\\jupyterlab\\resources\\jlab_server\\lib\\site-packages (from jupyter_contrib_nbextensions) (0.2.0)\n",
      "Collecting jupyter-contrib-core>=0.3.3\n",
      "  Downloading jupyter_contrib_core-0.3.3-py2.py3-none-any.whl (18 kB)\n",
      "Collecting pyyaml\n",
      "  Downloading PyYAML-6.0-cp38-cp38-win_amd64.whl (155 kB)\n",
      "Requirement already satisfied: tornado in c:\\jupyterlab\\resources\\jlab_server\\lib\\site-packages (from jupyter_contrib_nbextensions) (6.1)\n",
      "Collecting jupyter-highlight-selected-word>=0.1.1\n",
      "  Downloading jupyter_highlight_selected_word-0.2.0-py2.py3-none-any.whl (11 kB)\n",
      "Requirement already satisfied: jupyter-core in c:\\jupyterlab\\resources\\jlab_server\\lib\\site-packages (from jupyter_contrib_nbextensions) (4.9.1)\n",
      "Requirement already satisfied: traitlets>=4.1 in c:\\jupyterlab\\resources\\jlab_server\\lib\\site-packages (from jupyter_contrib_nbextensions) (5.1.1)\n",
      "Requirement already satisfied: notebook>=4.0 in c:\\jupyterlab\\resources\\jlab_server\\lib\\site-packages (from jupyter_contrib_nbextensions) (6.4.5)\n",
      "Requirement already satisfied: setuptools in c:\\jupyterlab\\resources\\jlab_server\\lib\\site-packages (from jupyter-contrib-core>=0.3.3->jupyter_contrib_nbextensions) (58.4.0)\n",
      "Requirement already satisfied: ipython in c:\\jupyterlab\\resources\\jlab_server\\lib\\site-packages (from jupyter-latex-envs>=1.3.8->jupyter_contrib_nbextensions) (7.29.0)\n",
      "Requirement already satisfied: testpath in c:\\jupyterlab\\resources\\jlab_server\\lib\\site-packages (from nbconvert>=4.2->jupyter_contrib_nbextensions) (0.5.0)\n",
      "Requirement already satisfied: nbclient<0.6.0,>=0.5.0 in c:\\jupyterlab\\resources\\jlab_server\\lib\\site-packages (from nbconvert>=4.2->jupyter_contrib_nbextensions) (0.5.4)\n",
      "Requirement already satisfied: jinja2>=2.4 in c:\\jupyterlab\\resources\\jlab_server\\lib\\site-packages (from nbconvert>=4.2->jupyter_contrib_nbextensions) (3.0.2)\n",
      "Requirement already satisfied: bleach in c:\\jupyterlab\\resources\\jlab_server\\lib\\site-packages (from nbconvert>=4.2->jupyter_contrib_nbextensions) (4.1.0)\n",
      "Requirement already satisfied: entrypoints>=0.2.2 in c:\\jupyterlab\\resources\\jlab_server\\lib\\site-packages (from nbconvert>=4.2->jupyter_contrib_nbextensions) (0.3)\n",
      "Requirement already satisfied: mistune<2,>=0.8.1 in c:\\jupyterlab\\resources\\jlab_server\\lib\\site-packages (from nbconvert>=4.2->jupyter_contrib_nbextensions) (0.8.4)\n",
      "Requirement already satisfied: jupyterlab-pygments in c:\\jupyterlab\\resources\\jlab_server\\lib\\site-packages (from nbconvert>=4.2->jupyter_contrib_nbextensions) (0.1.2)\n",
      "Requirement already satisfied: pygments>=2.4.1 in c:\\jupyterlab\\resources\\jlab_server\\lib\\site-packages (from nbconvert>=4.2->jupyter_contrib_nbextensions) (2.10.0)\n",
      "Requirement already satisfied: defusedxml in c:\\jupyterlab\\resources\\jlab_server\\lib\\site-packages (from nbconvert>=4.2->jupyter_contrib_nbextensions) (0.7.1)\n",
      "Requirement already satisfied: pandocfilters>=1.4.1 in c:\\jupyterlab\\resources\\jlab_server\\lib\\site-packages (from nbconvert>=4.2->jupyter_contrib_nbextensions) (1.5.0)\n",
      "Requirement already satisfied: nbformat>=4.4 in c:\\jupyterlab\\resources\\jlab_server\\lib\\site-packages (from nbconvert>=4.2->jupyter_contrib_nbextensions) (5.1.3)\n",
      "Requirement already satisfied: prometheus-client in c:\\jupyterlab\\resources\\jlab_server\\lib\\site-packages (from notebook>=4.0->jupyter_contrib_nbextensions) (0.12.0)\n",
      "Requirement already satisfied: argon2-cffi in c:\\jupyterlab\\resources\\jlab_server\\lib\\site-packages (from notebook>=4.0->jupyter_contrib_nbextensions) (21.1.0)\n",
      "Requirement already satisfied: pyzmq>=17 in c:\\jupyterlab\\resources\\jlab_server\\lib\\site-packages (from notebook>=4.0->jupyter_contrib_nbextensions) (22.3.0)\n",
      "Requirement already satisfied: terminado>=0.8.3 in c:\\jupyterlab\\resources\\jlab_server\\lib\\site-packages (from notebook>=4.0->jupyter_contrib_nbextensions) (0.12.1)\n",
      "Requirement already satisfied: Send2Trash>=1.5.0 in c:\\jupyterlab\\resources\\jlab_server\\lib\\site-packages (from notebook>=4.0->jupyter_contrib_nbextensions) (1.8.0)\n",
      "Requirement already satisfied: jupyter-client>=5.3.4 in c:\\jupyterlab\\resources\\jlab_server\\lib\\site-packages (from notebook>=4.0->jupyter_contrib_nbextensions) (7.0.6)\n",
      "Requirement already satisfied: ipykernel in c:\\jupyterlab\\resources\\jlab_server\\lib\\site-packages (from notebook>=4.0->jupyter_contrib_nbextensions) (6.4.2)\n",
      "Requirement already satisfied: pywin32>=1.0 in c:\\jupyterlab\\resources\\jlab_server\\lib\\site-packages (from jupyter-core->jupyter_contrib_nbextensions) (301)\n",
      "Requirement already satisfied: MarkupSafe>=2.0 in c:\\jupyterlab\\resources\\jlab_server\\lib\\site-packages (from jinja2>=2.4->nbconvert>=4.2->jupyter_contrib_nbextensions) (2.0.1)\n",
      "Requirement already satisfied: python-dateutil>=2.1 in c:\\jupyterlab\\resources\\jlab_server\\lib\\site-packages (from jupyter-client>=5.3.4->notebook>=4.0->jupyter_contrib_nbextensions) (2.8.2)\n",
      "Requirement already satisfied: nest-asyncio>=1.5 in c:\\jupyterlab\\resources\\jlab_server\\lib\\site-packages (from jupyter-client>=5.3.4->notebook>=4.0->jupyter_contrib_nbextensions) (1.5.1)\n",
      "Requirement already satisfied: jsonschema!=2.5.0,>=2.4 in c:\\jupyterlab\\resources\\jlab_server\\lib\\site-packages (from nbformat>=4.4->nbconvert>=4.2->jupyter_contrib_nbextensions) (4.1.2)\n",
      "Requirement already satisfied: pywinpty>=1.1.0 in c:\\jupyterlab\\resources\\jlab_server\\lib\\site-packages (from terminado>=0.8.3->notebook>=4.0->jupyter_contrib_nbextensions) (1.1.5)\n",
      "Requirement already satisfied: cffi>=1.0.0 in c:\\jupyterlab\\resources\\jlab_server\\lib\\site-packages (from argon2-cffi->notebook>=4.0->jupyter_contrib_nbextensions) (1.14.6)\n",
      "Requirement already satisfied: six>=1.9.0 in c:\\jupyterlab\\resources\\jlab_server\\lib\\site-packages (from bleach->nbconvert>=4.2->jupyter_contrib_nbextensions) (1.16.0)\n",
      "Requirement already satisfied: packaging in c:\\jupyterlab\\resources\\jlab_server\\lib\\site-packages (from bleach->nbconvert>=4.2->jupyter_contrib_nbextensions) (21.0)\n",
      "Requirement already satisfied: webencodings in c:\\jupyterlab\\resources\\jlab_server\\lib\\site-packages (from bleach->nbconvert>=4.2->jupyter_contrib_nbextensions) (0.5.1)\n",
      "Requirement already satisfied: debugpy<2.0,>=1.0.0 in c:\\jupyterlab\\resources\\jlab_server\\lib\\site-packages (from ipykernel->notebook>=4.0->jupyter_contrib_nbextensions) (1.4.1)\n",
      "Requirement already satisfied: matplotlib-inline<0.2.0,>=0.1.0 in c:\\jupyterlab\\resources\\jlab_server\\lib\\site-packages (from ipykernel->notebook>=4.0->jupyter_contrib_nbextensions) (0.1.3)\n",
      "Requirement already satisfied: decorator in c:\\jupyterlab\\resources\\jlab_server\\lib\\site-packages (from ipython->jupyter-latex-envs>=1.3.8->jupyter_contrib_nbextensions) (5.1.0)\n",
      "Requirement already satisfied: jedi>=0.16 in c:\\jupyterlab\\resources\\jlab_server\\lib\\site-packages (from ipython->jupyter-latex-envs>=1.3.8->jupyter_contrib_nbextensions) (0.18.0)\n",
      "Requirement already satisfied: backcall in c:\\jupyterlab\\resources\\jlab_server\\lib\\site-packages (from ipython->jupyter-latex-envs>=1.3.8->jupyter_contrib_nbextensions) (0.2.0)\n",
      "Requirement already satisfied: prompt-toolkit!=3.0.0,!=3.0.1,<3.1.0,>=2.0.0 in c:\\jupyterlab\\resources\\jlab_server\\lib\\site-packages (from ipython->jupyter-latex-envs>=1.3.8->jupyter_contrib_nbextensions) (3.0.21)\n",
      "Requirement already satisfied: pickleshare in c:\\jupyterlab\\resources\\jlab_server\\lib\\site-packages (from ipython->jupyter-latex-envs>=1.3.8->jupyter_contrib_nbextensions) (0.7.5)\n",
      "Requirement already satisfied: colorama in c:\\jupyterlab\\resources\\jlab_server\\lib\\site-packages (from ipython->jupyter-latex-envs>=1.3.8->jupyter_contrib_nbextensions) (0.4.4)\n",
      "Requirement already satisfied: pycparser in c:\\jupyterlab\\resources\\jlab_server\\lib\\site-packages (from cffi>=1.0.0->argon2-cffi->notebook>=4.0->jupyter_contrib_nbextensions) (2.20)\n",
      "Requirement already satisfied: parso<0.9.0,>=0.8.0 in c:\\jupyterlab\\resources\\jlab_server\\lib\\site-packages (from jedi>=0.16->ipython->jupyter-latex-envs>=1.3.8->jupyter_contrib_nbextensions) (0.8.2)\n",
      "Requirement already satisfied: attrs>=17.4.0 in c:\\jupyterlab\\resources\\jlab_server\\lib\\site-packages (from jsonschema!=2.5.0,>=2.4->nbformat>=4.4->nbconvert>=4.2->jupyter_contrib_nbextensions) (21.2.0)\n",
      "Requirement already satisfied: pyrsistent!=0.17.0,!=0.17.1,!=0.17.2,>=0.14.0 in c:\\jupyterlab\\resources\\jlab_server\\lib\\site-packages (from jsonschema!=2.5.0,>=2.4->nbformat>=4.4->nbconvert>=4.2->jupyter_contrib_nbextensions) (0.17.3)\n",
      "Requirement already satisfied: wcwidth in c:\\jupyterlab\\resources\\jlab_server\\lib\\site-packages (from prompt-toolkit!=3.0.0,!=3.0.1,<3.1.0,>=2.0.0->ipython->jupyter-latex-envs>=1.3.8->jupyter_contrib_nbextensions) (0.2.5)\n",
      "Requirement already satisfied: pyparsing>=2.0.2 in c:\\jupyterlab\\resources\\jlab_server\\lib\\site-packages (from packaging->bleach->nbconvert>=4.2->jupyter_contrib_nbextensions) (3.0.4)\n",
      "Building wheels for collected packages: jupyter-latex-envs, jupyter-nbextensions-configurator\n",
      "  Building wheel for jupyter-latex-envs (setup.py): started\n",
      "  Building wheel for jupyter-latex-envs (setup.py): finished with status 'done'\n",
      "  Created wheel for jupyter-latex-envs: filename=jupyter_latex_envs-1.4.6-py2.py3-none-any.whl size=963415 sha256=afd47169e9f177801ba2fd387934915467b8390b674fda68db69072e1b81b1c4\n",
      "  Stored in directory: c:\\users\\tawan\\appdata\\local\\pip\\cache\\wheels\\4d\\ba\\f4\\b8c0941055519ebc0f27e85bfe2bb223f1a59a3b8bfc5c7515\n",
      "  Building wheel for jupyter-nbextensions-configurator (setup.py): started\n",
      "  Building wheel for jupyter-nbextensions-configurator (setup.py): finished with status 'done'\n",
      "  Created wheel for jupyter-nbextensions-configurator: filename=jupyter_nbextensions_configurator-0.4.1-py2.py3-none-any.whl size=465842 sha256=f2bd25defe9c722f7cbce7c36decf64cf672e931a280013eca38cb4254ce498b\n",
      "  Stored in directory: c:\\users\\tawan\\appdata\\local\\pip\\cache\\wheels\\e3\\3a\\b3\\a709b437602c3807f079f0c35ccba3e1adf9af6f2e6b0ebfea\n",
      "Successfully built jupyter-latex-envs jupyter-nbextensions-configurator\n",
      "Installing collected packages: pyyaml, jupyter-contrib-core, jupyter-nbextensions-configurator, jupyter-latex-envs, jupyter-highlight-selected-word, jupyter-contrib-nbextensions\n",
      "Successfully installed jupyter-contrib-core-0.3.3 jupyter-contrib-nbextensions-0.5.1 jupyter-highlight-selected-word-0.2.0 jupyter-latex-envs-1.4.6 jupyter-nbextensions-configurator-0.4.1 pyyaml-6.0\n"
     ]
    }
   ],
   "source": [
    "%pip install jupyter_contrib_nbextensions && contrib nbextension install --user"
   ]
  },
  {
   "cell_type": "code",
   "execution_count": null,
   "id": "b7d504d2-fdab-4602-bf37-62d046fa3f4f",
   "metadata": {},
   "outputs": [],
   "source": []
  }
 ],
 "metadata": {
  "kernelspec": {
   "display_name": "Python 3 (ipykernel)",
   "language": "python",
   "name": "python3"
  },
  "language_info": {
   "codemirror_mode": {
    "name": "ipython",
    "version": 3
   },
   "file_extension": ".py",
   "mimetype": "text/x-python",
   "name": "python",
   "nbconvert_exporter": "python",
   "pygments_lexer": "ipython3",
   "version": "3.8.12"
  }
 },
 "nbformat": 4,
 "nbformat_minor": 5
}

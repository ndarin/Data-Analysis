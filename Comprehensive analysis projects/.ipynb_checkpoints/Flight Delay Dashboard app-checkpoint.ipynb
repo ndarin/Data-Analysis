{
 "cells": [
  {
   "cell_type": "markdown",
   "metadata": {},
   "source": [
    "# US Airline Flight Delay"
   ]
  },
  {
   "cell_type": "markdown",
   "metadata": {},
   "source": [
    "## Objectives\n",
    "\n",
    "This project looks at US Airline Flight Delay data. We'll visualise the data using a Dash application."
   ]
  },
  {
   "cell_type": "markdown",
   "metadata": {},
   "source": [
    "## Import libraries"
   ]
  },
  {
   "cell_type": "code",
   "execution_count": 1,
   "metadata": {},
   "outputs": [
    {
     "name": "stderr",
     "output_type": "stream",
     "text": [
      "C:\\Users\\tawan\\AppData\\Local\\Temp/ipykernel_11164/2235425224.py:5: UserWarning: \n",
      "The dash_html_components package is deprecated. Please replace\n",
      "`import dash_html_components as html` with `from dash import html`\n",
      "  import dash_html_components as html\n"
     ]
    }
   ],
   "source": [
    "import pandas as pd\n",
    "import dash\n",
    "import plotly.express as px\n",
    "from jupyter_dash import JupyterDash\n",
    "from dash import html\n",
    "from dash import dcc\n",
    "from dash.dependencies import Input, Output"
   ]
  },
  {
   "cell_type": "markdown",
   "metadata": {},
   "source": [
    "## Import data"
   ]
  },
  {
   "cell_type": "code",
   "execution_count": 2,
   "metadata": {},
   "outputs": [],
   "source": [
    "airline_data =  pd.read_csv('https://cf-courses-data.s3.us.cloud-object-storage.appdomain.cloud/IBMDeveloperSkillsNetwork-DV0101EN-SkillsNetwork/Data%20Files/airline_data.csv', \n",
    "                            encoding = \"ISO-8859-1\",\n",
    "                            dtype={'Div1Airport': str, 'Div1TailNum': str, \n",
    "                                   'Div2Airport': str, 'Div2TailNum': str})"
   ]
  },
  {
   "cell_type": "markdown",
   "metadata": {},
   "source": [
    "## Dashboard App Creation"
   ]
  },
  {
   "cell_type": "code",
   "execution_count": 4,
   "metadata": {},
   "outputs": [
    {
     "name": "stderr",
     "output_type": "stream",
     "text": [
      "C:\\JupyterLab\\resources\\jlab_server\\lib\\site-packages\\jupyter_dash\\comms.py:69: RuntimeWarning: coroutine 'Kernel.do_one_iteration' was never awaited\n",
      "  kernel.do_one_iteration()\n",
      "RuntimeWarning: Enable tracemalloc to get the object allocation traceback\n"
     ]
    },
    {
     "ename": "OSError",
     "evalue": "Unable to communicate with the jupyter_dash notebook or JupyterLab \nextension required to infer Jupyter configuration.",
     "output_type": "error",
     "traceback": [
      "\u001b[1;31m---------------------------------------------------------------------------\u001b[0m",
      "\u001b[1;31mOSError\u001b[0m                                   Traceback (most recent call last)",
      "\u001b[1;32m~\\AppData\\Local\\Temp/ipykernel_11164/2686723257.py\u001b[0m in \u001b[0;36m<module>\u001b[1;34m\u001b[0m\n\u001b[1;32m----> 1\u001b[1;33m \u001b[0mJupyterDash\u001b[0m\u001b[1;33m.\u001b[0m\u001b[0minfer_jupyter_proxy_config\u001b[0m\u001b[1;33m(\u001b[0m\u001b[1;33m)\u001b[0m\u001b[1;33m\u001b[0m\u001b[1;33m\u001b[0m\u001b[0m\n\u001b[0m\u001b[0;32m      2\u001b[0m \u001b[1;33m\u001b[0m\u001b[0m\n\u001b[0;32m      3\u001b[0m \u001b[0mJupyterDash\u001b[0m\u001b[1;33m.\u001b[0m\u001b[0minfer_jupyter_proxy_config\u001b[0m\u001b[1;33m(\u001b[0m\u001b[1;33m)\u001b[0m\u001b[1;33m\u001b[0m\u001b[1;33m\u001b[0m\u001b[0m\n\u001b[0;32m      4\u001b[0m \u001b[1;33m\u001b[0m\u001b[0m\n\u001b[0;32m      5\u001b[0m \u001b[0mexternal_stylesheets\u001b[0m \u001b[1;33m=\u001b[0m \u001b[1;33m[\u001b[0m\u001b[1;34m'https://codepen.io/chriddyp/pen/bWLwgP.css'\u001b[0m\u001b[1;33m]\u001b[0m\u001b[1;33m\u001b[0m\u001b[1;33m\u001b[0m\u001b[0m\n",
      "\u001b[1;32mC:\\JupyterLab\\resources\\jlab_server\\lib\\site-packages\\jupyter_dash\\jupyter_app.py\u001b[0m in \u001b[0;36minfer_jupyter_proxy_config\u001b[1;34m(cls)\u001b[0m\n\u001b[0;32m     71\u001b[0m         \u001b[1;32melse\u001b[0m\u001b[1;33m:\u001b[0m\u001b[1;33m\u001b[0m\u001b[1;33m\u001b[0m\u001b[0m\n\u001b[0;32m     72\u001b[0m             \u001b[1;31m# Assume classic notebook or JupyterLab\u001b[0m\u001b[1;33m\u001b[0m\u001b[1;33m\u001b[0m\u001b[1;33m\u001b[0m\u001b[0m\n\u001b[1;32m---> 73\u001b[1;33m             \u001b[0m_request_jupyter_config\u001b[0m\u001b[1;33m(\u001b[0m\u001b[1;33m)\u001b[0m\u001b[1;33m\u001b[0m\u001b[1;33m\u001b[0m\u001b[0m\n\u001b[0m\u001b[0;32m     74\u001b[0m \u001b[1;33m\u001b[0m\u001b[0m\n\u001b[0;32m     75\u001b[0m     \u001b[1;32mdef\u001b[0m \u001b[0m__init__\u001b[0m\u001b[1;33m(\u001b[0m\u001b[0mself\u001b[0m\u001b[1;33m,\u001b[0m \u001b[0mname\u001b[0m\u001b[1;33m=\u001b[0m\u001b[1;32mNone\u001b[0m\u001b[1;33m,\u001b[0m \u001b[0mserver_url\u001b[0m\u001b[1;33m=\u001b[0m\u001b[1;32mNone\u001b[0m\u001b[1;33m,\u001b[0m \u001b[1;33m**\u001b[0m\u001b[0mkwargs\u001b[0m\u001b[1;33m)\u001b[0m\u001b[1;33m:\u001b[0m\u001b[1;33m\u001b[0m\u001b[1;33m\u001b[0m\u001b[0m\n",
      "\u001b[1;32mC:\\JupyterLab\\resources\\jlab_server\\lib\\site-packages\\jupyter_dash\\comms.py\u001b[0m in \u001b[0;36m_request_jupyter_config\u001b[1;34m(timeout)\u001b[0m\n\u001b[0;32m     60\u001b[0m         \u001b[1;32mif\u001b[0m \u001b[1;33m(\u001b[0m\u001b[0mtime\u001b[0m\u001b[1;33m.\u001b[0m\u001b[0mtime\u001b[0m\u001b[1;33m(\u001b[0m\u001b[1;33m)\u001b[0m \u001b[1;33m-\u001b[0m \u001b[0mt0\u001b[0m\u001b[1;33m)\u001b[0m \u001b[1;33m>\u001b[0m \u001b[0mtimeout\u001b[0m\u001b[1;33m:\u001b[0m\u001b[1;33m\u001b[0m\u001b[1;33m\u001b[0m\u001b[0m\n\u001b[0;32m     61\u001b[0m             \u001b[1;31m# give up\u001b[0m\u001b[1;33m\u001b[0m\u001b[1;33m\u001b[0m\u001b[1;33m\u001b[0m\u001b[0m\n\u001b[1;32m---> 62\u001b[1;33m             raise EnvironmentError(\n\u001b[0m\u001b[0;32m     63\u001b[0m                 \u001b[1;34m\"Unable to communicate with the jupyter_dash notebook or JupyterLab \\n\"\u001b[0m\u001b[1;33m\u001b[0m\u001b[1;33m\u001b[0m\u001b[0m\n\u001b[0;32m     64\u001b[0m                 \u001b[1;34m\"extension required to infer Jupyter configuration.\"\u001b[0m\u001b[1;33m\u001b[0m\u001b[1;33m\u001b[0m\u001b[0m\n",
      "\u001b[1;31mOSError\u001b[0m: Unable to communicate with the jupyter_dash notebook or JupyterLab \nextension required to infer Jupyter configuration."
     ]
    }
   ],
   "source": [
    "JupyterDash.infer_jupyter_proxy_config()\n",
    "\n",
    "JupyterDash.infer_jupyter_proxy_config()\n",
    "\n",
    "external_stylesheets = ['https://codepen.io/chriddyp/pen/bWLwgP.css']\n",
    "\n",
    "colors = {'background': '#111111', 'text': '#7FDBFF'}\n",
    "\n",
    "app = JupyterDash(__name__, external_stylesheets=external_stylesheets)\n",
    "\n",
    "app.layout = html.Div(style={'backgroundColor': colors['background']}, children = [\n",
    "                        html.H1(\"Airline Performance Dashboard\", \n",
    "                                style={'font-size':30, 'textAlign':'center', 'color': colors['text']}),\n",
    "                       html.Div([\"Input Year: \", dcc.Input(id='input-year', value='2010', type='number',\n",
    "                                                          style={'height':'25px', 'font-size':20, 'color': colors['text']})],\n",
    "                               style={'font-size':25, 'color': colors['text']}),\n",
    "                       html.Br(),\n",
    "                       html.Br(),\n",
    "                       html.Div( \n",
    "                            [\n",
    "                           html.Div(dcc.Graph(id='carrier-plot')),\n",
    "                           html.Div(dcc.Graph(id='weather-plot'))], \n",
    "                           style={'display':'flex', 'backgroundColor': colors['background']}),\n",
    "                       html.Div( \n",
    "                            [\n",
    "                           html.Div(dcc.Graph(id='nas-plot')),\n",
    "                           html.Div(dcc.Graph(id='security-plot'))], \n",
    "                           style={'display':'flex', 'backgroundColor': colors['background']}),\n",
    "                       html.Div(dcc.Graph(id='late-plot'), style={'width':'65%', 'backgroundColor': colors['background']})\n",
    "                      ])\n",
    "\n",
    "\"\"\" Compute_info function description\n",
    "\n",
    "This function takes in airline data and selected year as an input and performs computation for creating charts and plots.\n",
    "\n",
    "Arguments:\n",
    "    airline_data: Input airline data.\n",
    "    entered_year: Input year for which computation needs to be performed.\n",
    "\n",
    "Returns:\n",
    "    Computed average dataframes for carrier delay, weather delay, NAS delay, security delay, and late aircraft delay.\n",
    "\n",
    "\"\"\"\n",
    "\n",
    "def compute_info(airline_data, entered_year):\n",
    "    # Select data\n",
    "    df = airline_data[airline_data['Year'] == int(entered_year)]\n",
    "    # Compute delay averages\n",
    "    avg_carrier = df.groupby(['Month', 'Reporting_Airline'])['CarrierDelay'].mean().reset_index()\n",
    "    avg_weather = df.groupby(['Month', 'Reporting_Airline'])['WeatherDelay'].mean().reset_index()\n",
    "    avg_nas = df.groupby(['Month', 'Reporting_Airline'])['NASDelay'].mean().reset_index()\n",
    "    avg_sec = df.groupby(['Month', 'Reporting_Airline'])['SecurityDelay'].mean().reset_index()\n",
    "    avg_late = df.groupby(['Month', 'Reporting_Airline'])['LateAircraftDelay'].mean().reset_index()\n",
    "    return avg_carrier, avg_weather, avg_nas, avg_sec, avg_late\n",
    "\n",
    "\"\"\"Callback Function\n",
    "\n",
    "Function that returns fugures using the provided input year.\n",
    "\n",
    "Arguments:\n",
    "\n",
    "    entered_year: Input year provided by the user.\n",
    "    \n",
    "Returns:\n",
    "\n",
    "    List of figures computed using the provided helper function `compute_info`.\n",
    "\"\"\"\n",
    "\n",
    "@app.callback([\n",
    "                Output(component_id='carrier-plot', component_property='figure'),\n",
    "                Output(component_id='weather-plot', component_property='figure'),\n",
    "                Output(component_id='nas-plot', component_property='figure'),\n",
    "                Output(component_id='security-plot', component_property='figure'),\n",
    "                Output(component_id='late-plot', component_property='figure')\n",
    "                ],\n",
    "                Input(component_id='input-year', component_property='value'))\n",
    "\n",
    "# Computation to callback function and return graph\n",
    "def get_graph(entered_year):\n",
    "    # Compute required information for creating graph from the data\n",
    "    avg_carrier, avg_weather, avg_nas, avg_sec, avg_late = compute_info(airline_data, entered_year)\n",
    "    # Line plot for carrier delay\n",
    "    carrier_fig = px.line(avg_carrier, x='Month', y='CarrierDelay', color='Reporting_Airline', title='Average carrier delay time (minutes) by airline')\n",
    "    carrier_fig.update_layout(plot_bgcolor=colors['background'], paper_bgcolor=colors['background'], font_color=colors['text'])\n",
    "    # Line plot for weather delay\n",
    "    weather_fig = px.line(avg_weather, x='Month', y='WeatherDelay', color='Reporting_Airline', title='Average weather delay time (minutes) by airline')\n",
    "    weather_fig.update_layout(plot_bgcolor=colors['background'], paper_bgcolor=colors['background'], font_color=colors['text'])\n",
    "    # Line plot for nas delay\n",
    "    nas_fig = px.line(avg_nas, x='Month', y='NASDelay', color='Reporting_Airline', title='Average NAS delay time (minutes) by airline')\n",
    "    nas_fig.update_layout(plot_bgcolor=colors['background'], paper_bgcolor=colors['background'], font_color=colors['text'])\n",
    "    # Line plot for security delay\n",
    "    sec_fig = px.line(avg_sec, x='Month', y='SecurityDelay', color='Reporting_Airline', title='Average security delay time (minutes) by airline')\n",
    "    sec_fig.update_layout(plot_bgcolor=colors['background'], paper_bgcolor=colors['background'], font_color=colors['text'])\n",
    "    # Line plot for late aircraft delay\n",
    "    late_fig = px.line(avg_late, x='Month', y='LateAircraftDelay', color='Reporting_Airline', title='Average late aircraft delay time (minutes) by airline')\n",
    "    late_fig.update_layout(plot_bgcolor=colors['background'], paper_bgcolor=colors['background'], font_color=colors['text'])\n",
    "\n",
    "    return [carrier_fig, weather_fig, nas_fig, sec_fig, late_fig]\n",
    "\n",
    "if __name__ == '__main__':\n",
    "    app.run_server(mode='external')\n",
    "    "
   ]
  },
  {
   "cell_type": "code",
   "execution_count": null,
   "metadata": {},
   "outputs": [],
   "source": []
  }
 ],
 "metadata": {
  "kernelspec": {
   "display_name": "Python 3 (ipykernel)",
   "language": "python",
   "name": "python3"
  },
  "language_info": {
   "codemirror_mode": {
    "name": "ipython",
    "version": 3
   },
   "file_extension": ".py",
   "mimetype": "text/x-python",
   "name": "python",
   "nbconvert_exporter": "python",
   "pygments_lexer": "ipython3",
   "version": "3.8.12"
  }
 },
 "nbformat": 4,
 "nbformat_minor": 4
}
